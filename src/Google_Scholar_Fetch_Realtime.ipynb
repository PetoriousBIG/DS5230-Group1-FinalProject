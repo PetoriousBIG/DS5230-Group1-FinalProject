{
  "nbformat": 4,
  "nbformat_minor": 0,
  "metadata": {
    "colab": {
      "provenance": []
    },
    "kernelspec": {
      "name": "python3",
      "display_name": "Python 3"
    },
    "language_info": {
      "name": "python"
    }
  },
  "cells": [
    {
      "cell_type": "code",
      "source": [
        "!pip install requests pandas"
      ],
      "metadata": {
        "id": "6b_pseWL1EdL"
      },
      "execution_count": null,
      "outputs": []
    },
    {
      "cell_type": "code",
      "execution_count": null,
      "metadata": {
        "id": "opZJ2Pmm1CkV"
      },
      "outputs": [],
      "source": [
        "import requests  # For making API requests\n",
        "import pandas as pd  # Data handling\n",
        "import time  # For handling API rate limits\n",
        "import os  # For accessing environment variables\n",
        "from datetime import datetime  # For handling date operations\n",
        "\n",
        "# Load API key from an environment variable for security\n",
        "SEMANTIC_SCHOLAR_API_KEY = os.getenv(\"SEMANTIC_SCHOLAR_API_KEY\", \"Insert API Key\")\n",
        "\n",
        "# Get the current year and define the past 20 years range\n",
        "CURRENT_YEAR = datetime.now().year  # Get the current year\n",
        "START_YEAR = CURRENT_YEAR - 20  # Define the start year as 20 years ago\n",
        "\n",
        "# Function to fetch research papers from Semantic Scholar based on user input\n",
        "def fetch_research_papers(query, max_results=100):\n",
        "    url = \"https://api.semanticscholar.org/graph/v1/paper/search\"\n",
        "    headers = {\"x-api-key\": SEMANTIC_SCHOLAR_API_KEY}\n",
        "\n",
        "    papers = []\n",
        "    total_fetched = 0\n",
        "    offset = 0\n",
        "\n",
        "    while total_fetched < max_results:\n",
        "        params = {\n",
        "            \"query\": query,\n",
        "            \"limit\": min(100, max_results - total_fetched),\n",
        "            \"offset\": offset,\n",
        "            \"fields\": \"title,abstract,authors,year,url,citationCount,journal,venue,publicationTypes\",\n",
        "            \"year\": f\"{START_YEAR}-{CURRENT_YEAR}\"\n",
        "        }\n",
        "\n",
        "        response = requests.get(url, headers=headers, params=params)\n",
        "\n",
        "        if response.status_code == 429:\n",
        "            wait_time = 2\n",
        "            while response.status_code == 429:\n",
        "                print(f\"Rate limit exceeded. Waiting for {wait_time} seconds...\")\n",
        "                time.sleep(wait_time)\n",
        "                wait_time *= 2\n",
        "                response = requests.get(url, headers=headers, params=params)\n",
        "        elif response.status_code != 200:\n",
        "            print(f\"Error fetching data: {response.status_code} - {response.text}\")\n",
        "            break\n",
        "\n",
        "        data = response.json()\n",
        "        papers_fetched = data.get(\"data\", [])\n",
        "\n",
        "        if not papers_fetched:\n",
        "            print(f\"No more results for query: {query}\")\n",
        "            break\n",
        "\n",
        "        for paper in papers_fetched:\n",
        "            year = paper.get(\"year\", 0)\n",
        "            if START_YEAR <= year <= CURRENT_YEAR:\n",
        "                papers.append({\n",
        "                    \"Title\": paper.get(\"title\", \"N/A\"),\n",
        "                    \"Abstract\": paper.get(\"abstract\", \"N/A\"),\n",
        "                    \"Authors\": \", \".join([author[\"name\"] for author in paper.get(\"authors\", [])]),\n",
        "                    \"Year\": year,\n",
        "                    \"URL\": paper.get(\"url\", \"N/A\"),\n",
        "                    \"Citations\": paper.get(\"citationCount\", \"N/A\"),\n",
        "                    \"Journal\": (paper.get(\"journal\") or {}).get(\"name\", \"N/A\"),\n",
        "                    \"Venue\": paper.get(\"venue\", \"N/A\"),\n",
        "                    \"Publication Types\": \", \".join(paper.get(\"publicationTypes\", []) or [])\n",
        "                })\n",
        "\n",
        "        total_fetched += len(papers_fetched)\n",
        "        offset += len(papers_fetched)\n",
        "        time.sleep(1)\n",
        "\n",
        "    return papers\n",
        "\n",
        "# Take user input for query\n",
        "user_query = input(\"Enter your search query: \")\n",
        "print(f\"Fetching papers for query: {user_query}\")\n",
        "\n",
        "papers = fetch_research_papers(user_query, max_results=100)\n",
        "\n",
        "# Convert results to a DataFrame\n",
        "df = pd.DataFrame(papers)\n",
        "df\n"
      ]
    }
  ]
}